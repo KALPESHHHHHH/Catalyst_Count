{
 "cells": [
  {
   "cell_type": "code",
   "execution_count": 3,
   "metadata": {},
   "outputs": [
    {
     "name": "stdout",
     "output_type": "stream",
     "text": [
      "Original Data:\n",
      "        id                       name         domain  year founded  \\\n",
      "0  5872184                        ibm        ibm.com        1911.0   \n",
      "1  4425416  tata consultancy services        tcs.com        1968.0   \n",
      "2    21074                  accenture  accenture.com        1989.0   \n",
      "3  2309813                    us army     goarmy.com        1800.0   \n",
      "4  1558607                         ey         ey.com        1989.0   \n",
      "\n",
      "                              industry size range  \\\n",
      "0  information technology and services     10001+   \n",
      "1  information technology and services     10001+   \n",
      "2  information technology and services     10001+   \n",
      "3                             military     10001+   \n",
      "4                           accounting     10001+   \n",
      "\n",
      "                                 locality         country  \\\n",
      "0       new york, new york, united states   united states   \n",
      "1              bombay, maharashtra, india           india   \n",
      "2                 dublin, dublin, ireland         ireland   \n",
      "3     alexandria, virginia, united states   united states   \n",
      "4  london, greater london, united kingdom  united kingdom   \n",
      "\n",
      "                                     linkedin url  current employee estimate  \\\n",
      "0                        linkedin.com/company/ibm                   274047.0   \n",
      "1  linkedin.com/company/tata-consultancy-services                   190771.0   \n",
      "2                  linkedin.com/company/accenture                   190689.0   \n",
      "3                    linkedin.com/company/us-army                   162163.0   \n",
      "4              linkedin.com/company/ernstandyoung                   158363.0   \n",
      "\n",
      "   total employee estimate  \n",
      "0                 716906.0  \n",
      "1                 341369.0  \n",
      "2                 455768.0  \n",
      "3                 445958.0  \n",
      "4                 428960.0  \n"
     ]
    },
    {
     "name": "stderr",
     "output_type": "stream",
     "text": [
      "C:\\Users\\Kalpesh__K__\\AppData\\Local\\Temp\\ipykernel_10604\\2490397135.py:16: FutureWarning: DataFrame.applymap has been deprecated. Use DataFrame.map instead.\n",
      "  df = df.applymap(lambda x: x.strip() if isinstance(x, str) else x)\n"
     ]
    },
    {
     "name": "stdout",
     "output_type": "stream",
     "text": [
      "Cleaned data saved to: C:\\Users\\Kalpesh__K__\\Downloads\\(Copy) free-7-million-company-dataset\\cleaned_companies_sorted.csv\n"
     ]
    }
   ],
   "source": [
    "import pandas as pd\n",
    "\n",
    "# Define the file paths\n",
    "input_file_path = r\"C:\\Users\\Kalpesh__K__\\Downloads\\(Copy) free-7-million-company-dataset\\companies_sorted.csv\"\n",
    "output_file_path = r\"C:\\Users\\Kalpesh__K__\\Downloads\\(Copy) free-7-million-company-dataset\\cleaned_companies_sorted.csv\"\n",
    "\n",
    "# Load the data\n",
    "df = pd.read_csv(input_file_path)\n",
    "\n",
    "# Display the first few rows to understand its structure\n",
    "print(\"Original Data:\")\n",
    "print(df.head())\n",
    "\n",
    "# Clean the data\n",
    "# 1. Remove leading and trailing spaces from all string fields\n",
    "df = df.applymap(lambda x: x.strip() if isinstance(x, str) else x)\n",
    "\n",
    "# 2. Convert 'id' to integer and drop any rows where 'id' is NaN\n",
    "df['id'] = pd.to_numeric(df['id'], errors='coerce')\n",
    "df.dropna(subset=['id'], inplace=True)\n",
    "df['id'] = df['id'].astype(int)\n",
    "\n",
    "# 3. Fill missing values in other columns (if applicable)\n",
    "df['year founded'] = df['year founded'].fillna(0).astype(int)  # Corrected column name\n",
    "df['current employee estimate'] = df['current employee estimate'].fillna(0).astype(int)  # Corrected column name\n",
    "df['total employee estimate'] = df['total employee estimate'].fillna(0).astype(int)  # Corrected column name\n",
    "\n",
    "# 4. Drop duplicates based on 'id'\n",
    "df.drop_duplicates(subset='id', keep='first', inplace=True)\n",
    "\n",
    "# 5. Ensure that required fields ('name', 'domain') are not empty\n",
    "df.dropna(subset=['name', 'domain'], inplace=True)\n",
    "\n",
    "# 6. Remove special characters (if necessary) from string fields, e.g., in 'name' and 'domain'\n",
    "df['name'] = df['name'].str.replace(r'[^a-zA-Z0-9\\s]', '', regex=True)\n",
    "df['domain'] = df['domain'].str.replace(r'[^a-zA-Z0-9\\.\\-]', '', regex=True)\n",
    "\n",
    "# 7. Ensure size_range is valid (e.g., no empty values)\n",
    "df['size range'] = df['size range'].fillna('Unknown')  # Corrected column name\n",
    "\n",
    "# Save the cleaned data to a new CSV file\n",
    "df.to_csv(output_file_path, index=False)\n",
    "\n",
    "print(\"Cleaned data saved to:\", output_file_path)\n"
   ]
  },
  {
   "cell_type": "code",
   "execution_count": null,
   "metadata": {},
   "outputs": [],
   "source": []
  }
 ],
 "metadata": {
  "kernelspec": {
   "display_name": "venv",
   "language": "python",
   "name": "python3"
  },
  "language_info": {
   "codemirror_mode": {
    "name": "ipython",
    "version": 3
   },
   "file_extension": ".py",
   "mimetype": "text/x-python",
   "name": "python",
   "nbconvert_exporter": "python",
   "pygments_lexer": "ipython3",
   "version": "3.12.4"
  }
 },
 "nbformat": 4,
 "nbformat_minor": 2
}
