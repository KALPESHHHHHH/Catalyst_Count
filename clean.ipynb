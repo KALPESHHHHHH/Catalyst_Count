{
 "cells": [
  {
   "cell_type": "code",
   "execution_count": 1,
   "metadata": {},
   "outputs": [
    {
     "name": "stdout",
     "output_type": "stream",
     "text": [
      "Year column formatted and saved to: C:\\Users\\Kalpesh__K__\\OneDrive\\Desktop\\cleaned_file_updated.csv\n"
     ]
    }
   ],
   "source": [
    "import pandas as pd\n",
    "\n",
    "# Path to your cleaned CSV file\n",
    "csv_file_path = r\"C:\\Users\\Kalpesh__K__\\OneDrive\\Desktop\\cleaned_file.csv\"\n",
    "\n",
    "# Load the CSV file into a DataFrame\n",
    "df = pd.read_csv(csv_file_path)\n",
    "\n",
    "# Assuming the year column is named 'year_founded', convert it to integer\n",
    "# This will remove any decimal and convert the column to integer type\n",
    "df['year_founded'] = df['year_founded'].astype('Int64')  # Use Int64 for nullable integers\n",
    "\n",
    "# Save the modified DataFrame back to a new CSV file\n",
    "output_file_path = r\"C:\\Users\\Kalpesh__K__\\OneDrive\\Desktop\\cleaned_file_updated.csv\"\n",
    "df.to_csv(output_file_path, index=False)\n",
    "\n",
    "print(\"Year column formatted and saved to:\", output_file_path)\n"
   ]
  },
  {
   "cell_type": "code",
   "execution_count": null,
   "metadata": {},
   "outputs": [],
   "source": []
  }
 ],
 "metadata": {
  "kernelspec": {
   "display_name": "venv",
   "language": "python",
   "name": "python3"
  },
  "language_info": {
   "codemirror_mode": {
    "name": "ipython",
    "version": 3
   },
   "file_extension": ".py",
   "mimetype": "text/x-python",
   "name": "python",
   "nbconvert_exporter": "python",
   "pygments_lexer": "ipython3",
   "version": "3.12.4"
  }
 },
 "nbformat": 4,
 "nbformat_minor": 2
}
